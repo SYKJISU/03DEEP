{
 "cells": [
  {
   "cell_type": "code",
   "execution_count": 3,
   "id": "a785059b",
   "metadata": {},
   "outputs": [],
   "source": [
    "import warnings\n",
    "warnings.filterwarnings('ignore')"
   ]
  },
  {
   "cell_type": "code",
   "execution_count": 4,
   "id": "49628841",
   "metadata": {},
   "outputs": [],
   "source": [
    "# Data불러오기\n",
    "import glob\n",
    "from PIL import Image\n",
    "import matplotlib.pyplot as plt"
   ]
  },
  {
   "cell_type": "code",
   "execution_count": 5,
   "id": "7134f635",
   "metadata": {},
   "outputs": [],
   "source": [
    "train_images = glob.glob(\"../Data/fingers/train/*.png\")\n",
    "test_images = glob.glob(\"../Data/fingers/test/*.png\")"
   ]
  },
  {
   "cell_type": "code",
   "execution_count": 6,
   "id": "078398b6",
   "metadata": {},
   "outputs": [
    {
     "data": {
      "text/plain": [
       "['../Data/fingers/train\\\\00048bba-979b-4f84-b833-5bbbb082b582_0L.png',\n",
       " '../Data/fingers/train\\\\000547a2-d456-4b16-b351-12ca9b40e390_0L.png',\n",
       " '../Data/fingers/train\\\\000cac8e-fcf0-4f8c-bd16-c257d1e6d7a8_2L.png',\n",
       " '../Data/fingers/train\\\\000d9961-8136-4dee-9820-86e178777958_0L.png',\n",
       " '../Data/fingers/train\\\\0010095b-2e3d-4517-a511-1f688c378f96_5L.png']"
      ]
     },
     "execution_count": 6,
     "metadata": {},
     "output_type": "execute_result"
    }
   ],
   "source": [
    "# file name 확인\n",
    "train_images[:5]"
   ]
  },
  {
   "cell_type": "code",
   "execution_count": 7,
   "id": "6fdc0355",
   "metadata": {},
   "outputs": [
    {
     "name": "stdout",
     "output_type": "stream",
     "text": [
      "18000\n",
      "3600\n"
     ]
    }
   ],
   "source": [
    "print(len(train_images))\n",
    "print(len(test_images))"
   ]
  },
  {
   "cell_type": "code",
   "execution_count": 8,
   "id": "2e4fdb5c",
   "metadata": {},
   "outputs": [
    {
     "data": {
      "text/plain": [
       "['../Data/fingers/test\\\\000e7aa6-100b-4c6b-9ff0-e7a8e53e4465_5L.png',\n",
       " '../Data/fingers/test\\\\001f6021-8581-4ed2-aed4-cda0af1d5d57_5L.png',\n",
       " '../Data/fingers/test\\\\0027029b-4c3c-4785-bc1b-b8141331a108_3R.png',\n",
       " '../Data/fingers/test\\\\004599fb-c735-4ff3-a969-342dda319382_5L.png',\n",
       " '../Data/fingers/test\\\\00500e1a-f4bd-4f66-9eb8-c7fce19a3f6f_5L.png']"
      ]
     },
     "execution_count": 8,
     "metadata": {},
     "output_type": "execute_result"
    }
   ],
   "source": [
    "test_images[:5]"
   ]
  },
  {
   "cell_type": "code",
   "execution_count": 9,
   "id": "6b54ac0f",
   "metadata": {},
   "outputs": [],
   "source": [
    "# train data test data 만들기 : 128 * 128 >  32*32  로 변환 / 큰 이미지를 줄여서 \n",
    "X_train = []\n",
    "X_test= []\n",
    "y_train= []\n",
    "y_test= []\n",
    "\n",
    "# train data\n",
    "for image in sorted(train_images):\n",
    "    # print(image)\n",
    "    # break\n",
    "    img = Image.open(image)\n",
    "    # 이미지 축소\n",
    "    imgResize = img.resize((32,32), Image.Resampling.LANCZOS)\n",
    "    X_train.append(imgResize)\n",
    "    y_train.append(image[-6:-4])\n",
    "\n",
    "# test data\n",
    "for image in sorted(test_images):\n",
    "    img = Image.open(image)\n",
    "     # 이미지 축소\n",
    "    imgResize = img.resize((32,32), Image.Resampling.LANCZOS)\n",
    "    X_test.append(imgResize)\n",
    "    y_test.append(image[-6:-4])    "
   ]
  },
  {
   "cell_type": "code",
   "execution_count": 10,
   "id": "cbff3ea0",
   "metadata": {},
   "outputs": [
    {
     "data": {
      "text/plain": [
       "'0L'"
      ]
     },
     "execution_count": 10,
     "metadata": {},
     "output_type": "execute_result"
    }
   ],
   "source": [
    "\n",
    "a = ['../Data/train\\\\00048bba-979b-4f84-b833-5bbbb082b582_0L.png']\n",
    "a[0][-6:-4]"
   ]
  },
  {
   "cell_type": "code",
   "execution_count": 11,
   "id": "655f80a5",
   "metadata": {},
   "outputs": [
    {
     "name": "stdout",
     "output_type": "stream",
     "text": [
      "['0L', '0L', '2L', '0L', '5L']\n",
      "['5L', '5L', '3R', '5L', '5L']\n"
     ]
    }
   ],
   "source": [
    "# label data 확인\n",
    "print(y_train[:5])\n",
    "print(y_test[:5])"
   ]
  },
  {
   "cell_type": "code",
   "execution_count": 12,
   "id": "f0264598",
   "metadata": {},
   "outputs": [
    {
     "data": {
      "image/png": "[encoded data removed]",
      "text/plain": [
       "<Figure size 640x480 with 1 Axes>"
      ]
     },
     "metadata": {},
     "output_type": "display_data"
    }
   ],
   "source": [
    "# train의 이미지 확인\n",
    "plt.imshow(X_train[0], cmap='gray')\n",
    "plt.show()"
   ]
  },
  {
   "cell_type": "code",
   "execution_count": 13,
   "id": "8dab7bc6",
   "metadata": {},
   "outputs": [
    {
     "data": {
      "image/png": "[encoded data removed]",
      "text/plain": [
       "<Figure size 640x480 with 1 Axes>"
      ]
     },
     "metadata": {},
     "output_type": "display_data"
    }
   ],
   "source": [
    "# test의 이미지 확인\n",
    "plt.imshow(X_test[0], cmap='gray')\n",
    "plt.show()"
   ]
  },
  {
   "cell_type": "code",
   "execution_count": 14,
   "id": "db8d0070",
   "metadata": {},
   "outputs": [
    {
     "name": "stdout",
     "output_type": "stream",
     "text": [
      "(18000, 32, 32)\n",
      "(3600, 32, 32)\n"
     ]
    }
   ],
   "source": [
    "import numpy as np\n",
    "\n",
    "# train data 만들기\n",
    "tempData = np.zeros(18000 * 32 * 32, dtype=np.int32).reshape(18000, 32, 32)\n",
    "\n",
    "i = 0\n",
    "for image in X_train:\n",
    "    img = np.array(image, dtype=np.int32)\n",
    "    tempData[i,:,:] = img \n",
    "    i += 1\n",
    "\n",
    "X_train = tempData.copy()\n",
    "print(X_train.shape)\n",
    "\n",
    "# test Data 만들기\n",
    "\n",
    "tempData = np.zeros(3600 * 32 * 32, dtype=np.int32).reshape(3600, 32, 32)\n",
    "\n",
    "i = 0\n",
    "for image in X_test:\n",
    "    img = np.array(image, dtype=np.int32)\n",
    "    tempData[i,:,:] = img \n",
    "    i += 1\n",
    "\n",
    "X_test = tempData.copy()\n",
    "print(X_test.shape)\n",
    "\n"
   ]
  },
  {
   "cell_type": "code",
   "execution_count": 15,
   "id": "e10a432d",
   "metadata": {},
   "outputs": [],
   "source": [
    "# Dictionary로 구성\n",
    "label_to_int = {\n",
    "    '0R' : 0,\n",
    "    '1R' : 1,\n",
    "    '2R' : 2,\n",
    "    '3R' : 3,\n",
    "    '4R' : 4,\n",
    "    '5R' : 5,\n",
    "    '0L' : 6,\n",
    "    '1L' : 7,\n",
    "    '2L' : 8,\n",
    "    '3L' : 9,\n",
    "    '4L' : 10,\n",
    "    '5L' : 11\n",
    "}"
   ]
  },
  {
   "cell_type": "code",
   "execution_count": 16,
   "id": "d0eb3193",
   "metadata": {},
   "outputs": [],
   "source": [
    "# 숫자로 변경하기\n",
    "temp = []\n",
    "for label in y_train:\n",
    "    temp.append(label_to_int[label])\n",
    "y_train = temp.copy()\n",
    "\n",
    "temp = []\n",
    "for label in y_test:\n",
    "    temp.append(label_to_int[label])\n",
    "y_test = temp.copy()\n"
   ]
  },
  {
   "cell_type": "code",
   "execution_count": 17,
   "id": "648a0211",
   "metadata": {},
   "outputs": [],
   "source": [
    "y_train = np.array(y_train)\n",
    "y_test = np.array(y_test)"
   ]
  },
  {
   "cell_type": "code",
   "execution_count": 18,
   "id": "9f3a45fa",
   "metadata": {},
   "outputs": [
    {
     "data": {
      "text/plain": [
       "array([11, 11,  3, 11, 11])"
      ]
     },
     "execution_count": 18,
     "metadata": {},
     "output_type": "execute_result"
    }
   ],
   "source": [
    "y_test[:5]"
   ]
  },
  {
   "cell_type": "code",
   "execution_count": 19,
   "id": "e66391fb",
   "metadata": {},
   "outputs": [
    {
     "data": {
      "text/plain": [
       "(18000, 32, 32)"
      ]
     },
     "execution_count": 19,
     "metadata": {},
     "output_type": "execute_result"
    }
   ],
   "source": [
    "X_train.shape"
   ]
  },
  {
   "cell_type": "code",
   "execution_count": 20,
   "id": "2fe43397",
   "metadata": {},
   "outputs": [
    {
     "name": "stdout",
     "output_type": "stream",
     "text": [
      "(14400, 32, 32, 1) (3600, 32, 32, 1)\n",
      "(14400,) (3600,)\n"
     ]
    }
   ],
   "source": [
    "# 정규화\n",
    "train_scaled = X_train.reshape(-1,32,32,1) / 255.0\n",
    "\n",
    "\n",
    "# train, valid\n",
    "from sklearn.model_selection import train_test_split\n",
    "\n",
    "train_scaled, val_scaled, train_target, val_target = \\\n",
    "                            train_test_split(\n",
    "                                train_scaled,\n",
    "                                y_train,\n",
    "                                test_size=0.2,\n",
    "                                random_state=42\n",
    "                            )\n",
    "\n",
    "print(train_scaled.shape, val_scaled.shape)\n",
    "print(train_target.shape, val_target.shape)"
   ]
  },
  {
   "cell_type": "code",
   "execution_count": 21,
   "id": "ae034602",
   "metadata": {},
   "outputs": [
    {
     "data": {
      "text/html": [
       "<pre style=\"white-space:pre;overflow-x:auto;line-height:normal;font-family:Menlo,'DejaVu Sans Mono',consolas,'Courier New',monospace\"><span style=\"font-weight: bold\">Model: \"sequential\"</span>\n",
       "</pre>\n"
      ],
      "text/plain": [
       "\u001b[1mModel: \"sequential\"\u001b[0m\n"
      ]
     },
     "metadata": {},
     "output_type": "display_data"
    },
    {
     "data": {
      "text/html": [
       "<pre style=\"white-space:pre;overflow-x:auto;line-height:normal;font-family:Menlo,'DejaVu Sans Mono',consolas,'Courier New',monospace\">┏━━━━━━━━━━━━━━━━━━━━━━━━━━━━━━━━━┳━━━━━━━━━━━━━━━━━━━━━━━━┳━━━━━━━━━━━━━━━┓\n",
       "┃<span style=\"font-weight: bold\"> Layer (type)                    </span>┃<span style=\"font-weight: bold\"> Output Shape           </span>┃<span style=\"font-weight: bold\">       Param # </span>┃\n",
       "┡━━━━━━━━━━━━━━━━━━━━━━━━━━━━━━━━━╇━━━━━━━━━━━━━━━━━━━━━━━━╇━━━━━━━━━━━━━━━┩\n",
       "│ conv2d (<span style=\"color: #0087ff; text-decoration-color: #0087ff\">Conv2D</span>)                 │ (<span style=\"color: #00d7ff; text-decoration-color: #00d7ff\">None</span>, <span style=\"color: #00af00; text-decoration-color: #00af00\">32</span>, <span style=\"color: #00af00; text-decoration-color: #00af00\">32</span>, <span style=\"color: #00af00; text-decoration-color: #00af00\">64</span>)     │           <span style=\"color: #00af00; text-decoration-color: #00af00\">640</span> │\n",
       "├─────────────────────────────────┼────────────────────────┼───────────────┤\n",
       "│ max_pooling2d (<span style=\"color: #0087ff; text-decoration-color: #0087ff\">MaxPooling2D</span>)    │ (<span style=\"color: #00d7ff; text-decoration-color: #00d7ff\">None</span>, <span style=\"color: #00af00; text-decoration-color: #00af00\">16</span>, <span style=\"color: #00af00; text-decoration-color: #00af00\">16</span>, <span style=\"color: #00af00; text-decoration-color: #00af00\">64</span>)     │             <span style=\"color: #00af00; text-decoration-color: #00af00\">0</span> │\n",
       "├─────────────────────────────────┼────────────────────────┼───────────────┤\n",
       "│ flatten (<span style=\"color: #0087ff; text-decoration-color: #0087ff\">Flatten</span>)               │ (<span style=\"color: #00d7ff; text-decoration-color: #00d7ff\">None</span>, <span style=\"color: #00af00; text-decoration-color: #00af00\">16384</span>)          │             <span style=\"color: #00af00; text-decoration-color: #00af00\">0</span> │\n",
       "├─────────────────────────────────┼────────────────────────┼───────────────┤\n",
       "│ dense (<span style=\"color: #0087ff; text-decoration-color: #0087ff\">Dense</span>)                   │ (<span style=\"color: #00d7ff; text-decoration-color: #00d7ff\">None</span>, <span style=\"color: #00af00; text-decoration-color: #00af00\">100</span>)            │     <span style=\"color: #00af00; text-decoration-color: #00af00\">1,638,500</span> │\n",
       "├─────────────────────────────────┼────────────────────────┼───────────────┤\n",
       "│ dropout (<span style=\"color: #0087ff; text-decoration-color: #0087ff\">Dropout</span>)               │ (<span style=\"color: #00d7ff; text-decoration-color: #00d7ff\">None</span>, <span style=\"color: #00af00; text-decoration-color: #00af00\">100</span>)            │             <span style=\"color: #00af00; text-decoration-color: #00af00\">0</span> │\n",
       "├─────────────────────────────────┼────────────────────────┼───────────────┤\n",
       "│ dense_1 (<span style=\"color: #0087ff; text-decoration-color: #0087ff\">Dense</span>)                 │ (<span style=\"color: #00d7ff; text-decoration-color: #00d7ff\">None</span>, <span style=\"color: #00af00; text-decoration-color: #00af00\">12</span>)             │         <span style=\"color: #00af00; text-decoration-color: #00af00\">1,212</span> │\n",
       "└─────────────────────────────────┴────────────────────────┴───────────────┘\n",
       "</pre>\n"
      ],
      "text/plain": [
       "┏━━━━━━━━━━━━━━━━━━━━━━━━━━━━━━━━━┳━━━━━━━━━━━━━━━━━━━━━━━━┳━━━━━━━━━━━━━━━┓\n",
       "┃\u001b[1m \u001b[0m\u001b[1mLayer (type)                   \u001b[0m\u001b[1m \u001b[0m┃\u001b[1m \u001b[0m\u001b[1mOutput Shape          \u001b[0m\u001b[1m \u001b[0m┃\u001b[1m \u001b[0m\u001b[1m      Param #\u001b[0m\u001b[1m \u001b[0m┃\n",
       "┡━━━━━━━━━━━━━━━━━━━━━━━━━━━━━━━━━╇━━━━━━━━━━━━━━━━━━━━━━━━╇━━━━━━━━━━━━━━━┩\n",
       "│ conv2d (\u001b[38;5;33mConv2D\u001b[0m)                 │ (\u001b[38;5;45mNone\u001b[0m, \u001b[38;5;34m32\u001b[0m, \u001b[38;5;34m32\u001b[0m, \u001b[38;5;34m64\u001b[0m)     │           \u001b[38;5;34m640\u001b[0m │\n",
       "├─────────────────────────────────┼────────────────────────┼───────────────┤\n",
       "│ max_pooling2d (\u001b[38;5;33mMaxPooling2D\u001b[0m)    │ (\u001b[38;5;45mNone\u001b[0m, \u001b[38;5;34m16\u001b[0m, \u001b[38;5;34m16\u001b[0m, \u001b[38;5;34m64\u001b[0m)     │             \u001b[38;5;34m0\u001b[0m │\n",
       "├─────────────────────────────────┼────────────────────────┼───────────────┤\n",
       "│ flatten (\u001b[38;5;33mFlatten\u001b[0m)               │ (\u001b[38;5;45mNone\u001b[0m, \u001b[38;5;34m16384\u001b[0m)          │             \u001b[38;5;34m0\u001b[0m │\n",
       "├─────────────────────────────────┼────────────────────────┼───────────────┤\n",
       "│ dense (\u001b[38;5;33mDense\u001b[0m)                   │ (\u001b[38;5;45mNone\u001b[0m, \u001b[38;5;34m100\u001b[0m)            │     \u001b[38;5;34m1,638,500\u001b[0m │\n",
       "├─────────────────────────────────┼────────────────────────┼───────────────┤\n",
       "│ dropout (\u001b[38;5;33mDropout\u001b[0m)               │ (\u001b[38;5;45mNone\u001b[0m, \u001b[38;5;34m100\u001b[0m)            │             \u001b[38;5;34m0\u001b[0m │\n",
       "├─────────────────────────────────┼────────────────────────┼───────────────┤\n",
       "│ dense_1 (\u001b[38;5;33mDense\u001b[0m)                 │ (\u001b[38;5;45mNone\u001b[0m, \u001b[38;5;34m12\u001b[0m)             │         \u001b[38;5;34m1,212\u001b[0m │\n",
       "└─────────────────────────────────┴────────────────────────┴───────────────┘\n"
      ]
     },
     "metadata": {},
     "output_type": "display_data"
    },
    {
     "data": {
      "text/html": [
       "<pre style=\"white-space:pre;overflow-x:auto;line-height:normal;font-family:Menlo,'DejaVu Sans Mono',consolas,'Courier New',monospace\"><span style=\"font-weight: bold\"> Total params: </span><span style=\"color: #00af00; text-decoration-color: #00af00\">1,640,352</span> (6.26 MB)\n",
       "</pre>\n"
      ],
      "text/plain": [
       "\u001b[1m Total params: \u001b[0m\u001b[38;5;34m1,640,352\u001b[0m (6.26 MB)\n"
      ]
     },
     "metadata": {},
     "output_type": "display_data"
    },
    {
     "data": {
      "text/html": [
       "<pre style=\"white-space:pre;overflow-x:auto;line-height:normal;font-family:Menlo,'DejaVu Sans Mono',consolas,'Courier New',monospace\"><span style=\"font-weight: bold\"> Trainable params: </span><span style=\"color: #00af00; text-decoration-color: #00af00\">1,640,352</span> (6.26 MB)\n",
       "</pre>\n"
      ],
      "text/plain": [
       "\u001b[1m Trainable params: \u001b[0m\u001b[38;5;34m1,640,352\u001b[0m (6.26 MB)\n"
      ]
     },
     "metadata": {},
     "output_type": "display_data"
    },
    {
     "data": {
      "text/html": [
       "<pre style=\"white-space:pre;overflow-x:auto;line-height:normal;font-family:Menlo,'DejaVu Sans Mono',consolas,'Courier New',monospace\"><span style=\"font-weight: bold\"> Non-trainable params: </span><span style=\"color: #00af00; text-decoration-color: #00af00\">0</span> (0.00 B)\n",
       "</pre>\n"
      ],
      "text/plain": [
       "\u001b[1m Non-trainable params: \u001b[0m\u001b[38;5;34m0\u001b[0m (0.00 B)\n"
      ]
     },
     "metadata": {},
     "output_type": "display_data"
    },
    {
     "name": "stdout",
     "output_type": "stream",
     "text": [
      "Epoch 1/20\n",
      "\u001b[1m450/450\u001b[0m \u001b[32m━━━━━━━━━━━━━━━━━━━━\u001b[0m\u001b[37m\u001b[0m \u001b[1m10s\u001b[0m 20ms/step - accuracy: 0.6779 - loss: 1.0566 - val_accuracy: 0.9897 - val_loss: 0.0456\n",
      "Epoch 2/20\n",
      "\u001b[1m450/450\u001b[0m \u001b[32m━━━━━━━━━━━━━━━━━━━━\u001b[0m\u001b[37m\u001b[0m \u001b[1m9s\u001b[0m 20ms/step - accuracy: 0.9758 - loss: 0.0905 - val_accuracy: 0.9967 - val_loss: 0.0103\n",
      "Epoch 3/20\n",
      "\u001b[1m450/450\u001b[0m \u001b[32m━━━━━━━━━━━━━━━━━━━━\u001b[0m\u001b[37m\u001b[0m \u001b[1m9s\u001b[0m 20ms/step - accuracy: 0.9885 - loss: 0.0400 - val_accuracy: 0.9997 - val_loss: 0.0029\n",
      "Epoch 4/20\n",
      "\u001b[1m450/450\u001b[0m \u001b[32m━━━━━━━━━━━━━━━━━━━━\u001b[0m\u001b[37m\u001b[0m \u001b[1m9s\u001b[0m 20ms/step - accuracy: 0.9920 - loss: 0.0249 - val_accuracy: 0.9997 - val_loss: 0.0019\n",
      "Epoch 5/20\n",
      "\u001b[1m450/450\u001b[0m \u001b[32m━━━━━━━━━━━━━━━━━━━━\u001b[0m\u001b[37m\u001b[0m \u001b[1m9s\u001b[0m 21ms/step - accuracy: 0.9937 - loss: 0.0192 - val_accuracy: 0.9992 - val_loss: 0.0016\n",
      "Epoch 6/20\n",
      "\u001b[1m450/450\u001b[0m \u001b[32m━━━━━━━━━━━━━━━━━━━━\u001b[0m\u001b[37m\u001b[0m \u001b[1m9s\u001b[0m 21ms/step - accuracy: 0.9951 - loss: 0.0166 - val_accuracy: 1.0000 - val_loss: 5.7532e-04\n",
      "Epoch 7/20\n",
      "\u001b[1m450/450\u001b[0m \u001b[32m━━━━━━━━━━━━━━━━━━━━\u001b[0m\u001b[37m\u001b[0m \u001b[1m9s\u001b[0m 21ms/step - accuracy: 0.9955 - loss: 0.0132 - val_accuracy: 1.0000 - val_loss: 3.8410e-04\n",
      "Epoch 8/20\n",
      "\u001b[1m450/450\u001b[0m \u001b[32m━━━━━━━━━━━━━━━━━━━━\u001b[0m\u001b[37m\u001b[0m \u001b[1m9s\u001b[0m 20ms/step - accuracy: 0.9968 - loss: 0.0108 - val_accuracy: 1.0000 - val_loss: 1.5047e-04\n",
      "Epoch 9/20\n",
      "\u001b[1m450/450\u001b[0m \u001b[32m━━━━━━━━━━━━━━━━━━━━\u001b[0m\u001b[37m\u001b[0m \u001b[1m9s\u001b[0m 21ms/step - accuracy: 0.9968 - loss: 0.0094 - val_accuracy: 1.0000 - val_loss: 1.3285e-04\n",
      "Epoch 10/20\n",
      "\u001b[1m450/450\u001b[0m \u001b[32m━━━━━━━━━━━━━━━━━━━━\u001b[0m\u001b[37m\u001b[0m \u001b[1m9s\u001b[0m 21ms/step - accuracy: 0.9966 - loss: 0.0115 - val_accuracy: 1.0000 - val_loss: 4.0264e-04\n",
      "Epoch 11/20\n",
      "\u001b[1m450/450\u001b[0m \u001b[32m━━━━━━━━━━━━━━━━━━━━\u001b[0m\u001b[37m\u001b[0m \u001b[1m9s\u001b[0m 21ms/step - accuracy: 0.9975 - loss: 0.0083 - val_accuracy: 1.0000 - val_loss: 7.6993e-05\n",
      "Epoch 12/20\n",
      "\u001b[1m450/450\u001b[0m \u001b[32m━━━━━━━━━━━━━━━━━━━━\u001b[0m\u001b[37m\u001b[0m \u001b[1m9s\u001b[0m 21ms/step - accuracy: 0.9970 - loss: 0.0089 - val_accuracy: 1.0000 - val_loss: 8.5916e-05\n",
      "Epoch 13/20\n",
      "\u001b[1m450/450\u001b[0m \u001b[32m━━━━━━━━━━━━━━━━━━━━\u001b[0m\u001b[37m\u001b[0m \u001b[1m9s\u001b[0m 21ms/step - accuracy: 0.9979 - loss: 0.0067 - val_accuracy: 1.0000 - val_loss: 1.2211e-04\n",
      "Epoch 14/20\n",
      "\u001b[1m450/450\u001b[0m \u001b[32m━━━━━━━━━━━━━━━━━━━━\u001b[0m\u001b[37m\u001b[0m \u001b[1m9s\u001b[0m 21ms/step - accuracy: 0.9990 - loss: 0.0040 - val_accuracy: 0.9994 - val_loss: 0.0011\n",
      "Epoch 15/20\n",
      "\u001b[1m450/450\u001b[0m \u001b[32m━━━━━━━━━━━━━━━━━━━━\u001b[0m\u001b[37m\u001b[0m \u001b[1m9s\u001b[0m 21ms/step - accuracy: 0.9986 - loss: 0.0048 - val_accuracy: 1.0000 - val_loss: 1.8811e-05\n",
      "Epoch 16/20\n",
      "\u001b[1m450/450\u001b[0m \u001b[32m━━━━━━━━━━━━━━━━━━━━\u001b[0m\u001b[37m\u001b[0m \u001b[1m9s\u001b[0m 21ms/step - accuracy: 0.9981 - loss: 0.0057 - val_accuracy: 1.0000 - val_loss: 1.2182e-04\n",
      "Epoch 17/20\n",
      "\u001b[1m450/450\u001b[0m \u001b[32m━━━━━━━━━━━━━━━━━━━━\u001b[0m\u001b[37m\u001b[0m \u001b[1m9s\u001b[0m 21ms/step - accuracy: 0.9982 - loss: 0.0064 - val_accuracy: 1.0000 - val_loss: 4.2889e-06\n",
      "Epoch 18/20\n",
      "\u001b[1m450/450\u001b[0m \u001b[32m━━━━━━━━━━━━━━━━━━━━\u001b[0m\u001b[37m\u001b[0m \u001b[1m9s\u001b[0m 21ms/step - accuracy: 0.9983 - loss: 0.0041 - val_accuracy: 1.0000 - val_loss: 5.7964e-06\n",
      "Epoch 19/20\n",
      "\u001b[1m450/450\u001b[0m \u001b[32m━━━━━━━━━━━━━━━━━━━━\u001b[0m\u001b[37m\u001b[0m \u001b[1m9s\u001b[0m 21ms/step - accuracy: 0.9987 - loss: 0.0035 - val_accuracy: 1.0000 - val_loss: 1.8126e-05\n",
      "Epoch 20/20\n",
      "\u001b[1m450/450\u001b[0m \u001b[32m━━━━━━━━━━━━━━━━━━━━\u001b[0m\u001b[37m\u001b[0m \u001b[1m9s\u001b[0m 21ms/step - accuracy: 0.9978 - loss: 0.0054 - val_accuracy: 1.0000 - val_loss: 9.4335e-06\n"
     ]
    }
   ],
   "source": [
    "from tensorflow import keras\n",
    "from tensorflow.keras.layers import  Dense, Dropout\n",
    "from tensorflow.keras.callbacks import  ModelCheckpoint, EarlyStopping\n",
    "\n",
    "model = keras.Sequential()\n",
    "\n",
    "model.add(keras.layers.Conv2D(64, kernel_size=3, activation='relu', padding='same', input_shape=(32,32,1)))\n",
    "model.add(keras.layers.MaxPooling2D(2))   \n",
    "model.add(keras.layers.Flatten())\n",
    "\n",
    "model.add(Dense(100, activation='relu' ))\n",
    "model.add(Dropout(0.4))\n",
    "model.add(Dense(12, activation='softmax'))\n",
    "\n",
    "model.compile(optimizer='adam', loss='sparse_categorical_crossentropy', metrics=['accuracy'])\n",
    "\n",
    "model.summary()\n",
    "\n",
    "cp = ModelCheckpoint(\"../Data/my0727_cnn_best.keras\")\n",
    "es = EarlyStopping(patience = 5, restore_best_weights=True)\n",
    "\n",
    "history = model.fit(train_scaled, train_target, epochs=20, \n",
    "                    validation_data=(val_scaled, val_target), callbacks=[cp,es])"
   ]
  },
  {
   "cell_type": "code",
   "execution_count": 22,
   "id": "67a4df4d",
   "metadata": {},
   "outputs": [],
   "source": [
    "model = keras.models.load_model(\"../Data/my0727_cnn_best.keras\")"
   ]
  },
  {
   "cell_type": "code",
   "execution_count": 23,
   "id": "fe938331",
   "metadata": {},
   "outputs": [
    {
     "data": {
      "text/plain": [
       "[<Conv2D name=conv2d, built=True>,\n",
       " <MaxPooling2D name=max_pooling2d, built=True>,\n",
       " <Flatten name=flatten, built=True>,\n",
       " <Dense name=dense, built=True>,\n",
       " <Dropout name=dropout, built=True>,\n",
       " <Dense name=dense_1, built=True>]"
      ]
     },
     "execution_count": 23,
     "metadata": {},
     "output_type": "execute_result"
    }
   ],
   "source": [
    "model.layers"
   ]
  },
  {
   "cell_type": "code",
   "execution_count": 24,
   "id": "ff643db8",
   "metadata": {},
   "outputs": [
    {
     "name": "stdout",
     "output_type": "stream",
     "text": [
      "(3, 3, 1, 64) (64,)\n"
     ]
    }
   ],
   "source": [
    "conv = model.layers[0]\n",
    "print(conv.weights[0].shape, conv.weights[1].shape)"
   ]
  },
  {
   "cell_type": "code",
   "execution_count": 37,
   "id": "38e52093",
   "metadata": {},
   "outputs": [
    {
     "data": {
      "text/plain": [
       "<Variable path=conv2d/kernel, shape=(3, 3, 1, 64), dtype=float32, value=[[[[ 1.88868552e-01 -7.56148547e-02  4.54556830e-02  5.32627255e-02\n",
       "    -1.27712667e-01  3.27208370e-01 -2.78431773e-01 -9.02527273e-02\n",
       "    -7.91173354e-02  3.23694386e-02 -2.05742508e-01 -6.00629389e-01\n",
       "     3.71816605e-01 -1.29274651e-01  9.13144462e-03 -7.29609057e-02\n",
       "    -3.93523902e-01  3.24036270e-01 -2.19725817e-02  1.30119383e-01\n",
       "     8.89805704e-02 -3.48739952e-01  3.52751225e-01 -1.34816691e-01\n",
       "     1.11581437e-01 -4.23541784e-01  2.77605116e-01 -1.56791627e-01\n",
       "     3.65010321e-01 -4.10692036e-01 -8.48812684e-02 -8.65913704e-02\n",
       "     2.78270971e-02 -4.99387272e-02  1.00344025e-01 -2.97230095e-01\n",
       "     4.83769059e-01 -3.20774503e-02 -3.59717086e-02 -1.89866289e-01\n",
       "     8.87411386e-02 -1.54467016e-01  9.24448371e-02  3.63181591e-01\n",
       "    -3.06170005e-02 -2.19928622e-02 -2.88855761e-01 -1.62860885e-01\n",
       "     1.35357352e-02  3.13204564e-02  3.75413269e-01  2.60517508e-01\n",
       "    -1.23455904e-01 -8.19505006e-02 -7.54702687e-02 -2.80924458e-02\n",
       "     8.96016210e-02 -3.95768940e-01 -2.24304050e-01 -3.02916318e-01\n",
       "    -3.96162271e-01 -3.69909614e-01  3.63539606e-02 -2.02452749e-01]]\n",
       "\n",
       "  [[ 2.92979747e-01  2.90807694e-01  7.60786682e-02 -2.99721301e-01\n",
       "    -1.95615783e-01  4.73961264e-01 -3.02206665e-01  2.28442475e-01\n",
       "     3.27778399e-01 -7.64598846e-02 -3.82929265e-01 -4.57104594e-02\n",
       "    -3.01231951e-01  6.69669546e-03 -7.36834630e-02  3.31717953e-02\n",
       "     3.36887054e-02 -2.31943339e-01  4.81101125e-03 -5.07389605e-01\n",
       "    -1.33034408e-01  2.03129306e-01  5.77920079e-01 -2.82539278e-01\n",
       "     4.37222682e-02 -2.26289332e-01  2.28982512e-02 -1.59029037e-01\n",
       "    -1.64204359e-01  4.19503897e-02  3.29419583e-01 -3.13927680e-02\n",
       "     3.75148803e-02  3.16793561e-01 -2.57487539e-02 -2.55992323e-01\n",
       "     1.95531443e-01  9.18929353e-02  4.30932879e-01 -3.47118914e-01\n",
       "     1.62318945e-01  1.50038883e-01  1.49633035e-01  3.84195864e-01\n",
       "    -4.47463542e-01 -8.27804506e-02 -1.48652539e-01  1.62280843e-01\n",
       "    -8.37565958e-02 -2.93424428e-01 -3.72339636e-01  4.45663095e-01\n",
       "     2.60776430e-02  2.26940960e-01 -3.41667116e-01 -9.63832736e-02\n",
       "     5.06029129e-02 -4.58776027e-01  2.97034439e-02 -9.69301313e-02\n",
       "    -1.04557626e-01 -4.92285520e-01 -5.99966682e-02 -4.98074979e-01]]\n",
       "\n",
       "  [[-8.86664614e-02  1.34060636e-01 -3.65975760e-02 -5.41687980e-02\n",
       "    -4.15144175e-01 -3.51337492e-01  2.08701357e-01 -2.07735464e-01\n",
       "     1.26199052e-01 -7.32158050e-02  3.74382287e-02  5.12418270e-01\n",
       "    -1.81746870e-01  2.93367580e-02 -5.17441668e-02 -1.39736468e-02\n",
       "     4.77925800e-02  3.79687876e-01 -9.63734835e-03 -1.71030611e-01\n",
       "    -3.44099581e-01  2.21238479e-01  2.13231742e-01 -1.77091494e-01\n",
       "    -3.18053514e-01  8.49679783e-02 -4.43765640e-01  1.82488456e-01\n",
       "    -1.49679989e-01  3.57057422e-01  2.58022666e-01 -2.82539576e-02\n",
       "    -3.84327471e-02  5.65763235e-01 -3.65161985e-01  2.93476075e-01\n",
       "    -3.83394003e-01  2.15001494e-01  2.24387243e-01 -5.08928299e-01\n",
       "    -2.47627914e-01 -3.54365528e-01 -2.57304817e-01 -1.84562176e-01\n",
       "    -3.51348430e-01 -1.08655170e-02  1.06978610e-01 -9.11242794e-03\n",
       "    -3.80175672e-02  3.73718366e-02 -2.30364829e-01 -4.10996974e-02\n",
       "     1.54524505e-01  5.59181869e-01  5.63028408e-03  5.35800308e-02\n",
       "    -4.36191469e-01 -1.87243000e-01  1.45933315e-01  2.95837745e-02\n",
       "    -5.00163585e-02 -3.99018943e-01 -1.28505379e-03 -5.21888554e-01]]]\n",
       "\n",
       "\n",
       " [[[ 2.13015556e-01 -6.82566985e-02 -4.89458218e-02  4.29116488e-01\n",
       "     1.58529073e-01 -8.93076509e-02 -3.52013439e-01 -1.11307152e-01\n",
       "     1.35891780e-01  1.21449821e-01 -3.96776617e-01  2.00705752e-01\n",
       "     3.78330767e-01  1.67651549e-01  2.55325176e-02  7.34765902e-02\n",
       "    -1.49078116e-01 -2.48504475e-01  3.90460491e-02  1.69524103e-01\n",
       "     2.36052811e-01  1.21959910e-01 -8.33729804e-02  4.86074030e-01\n",
       "     2.70766109e-01 -9.53820795e-02 -1.74338128e-02 -1.82861596e-01\n",
       "     4.67448503e-01  3.08874577e-01 -3.06288570e-01 -6.72654808e-03\n",
       "    -9.95305330e-02  1.88021585e-01  3.72434221e-02 -3.58041435e-01\n",
       "     6.25977442e-02 -2.42681578e-01 -1.52568758e-01 -1.49373606e-01\n",
       "    -1.57738015e-01 -1.69406071e-01  1.08172446e-01  4.58669633e-01\n",
       "    -2.45171696e-01 -8.78738388e-02 -2.64272988e-01 -6.43805647e-03\n",
       "     7.75165809e-03 -2.31383681e-01 -2.06287637e-01  4.09517348e-01\n",
       "    -9.45845693e-02 -1.14012673e-01 -2.46791095e-01 -8.33105072e-02\n",
       "     2.76597831e-02 -1.76289946e-01 -1.02231525e-01 -1.60184368e-01\n",
       "    -5.43848909e-02 -4.88366596e-02 -5.57011217e-02 -5.38652539e-02]]\n",
       "\n",
       "  [[ 3.50407720e-01  1.18311934e-01  1.90576091e-01 -1.73574816e-02\n",
       "     2.46505886e-01  1.15904212e-01  1.32060841e-01  2.05065966e-01\n",
       "     1.85320094e-01  2.18273804e-01 -2.20704898e-02 -1.98111609e-01\n",
       "    -1.97793990e-01  4.75675792e-01  1.03346063e-02 -3.28868292e-02\n",
       "     5.10997474e-01 -4.65166479e-01 -6.18901402e-02 -2.93123722e-01\n",
       "     2.75427550e-01  1.47422850e-01 -3.42879705e-02 -2.17916831e-01\n",
       "     3.85163009e-01  7.90214092e-02  3.54856223e-01  1.83323920e-01\n",
       "    -3.87560911e-02 -1.85982004e-01  1.58270881e-01 -8.07074532e-02\n",
       "    -8.05024803e-03  2.40287080e-01  2.54491210e-01  1.55890405e-01\n",
       "     2.00838536e-01 -1.46230340e-01  2.51476675e-01  3.50097328e-01\n",
       "     1.15778632e-01  5.39568245e-01  5.87034933e-02 -2.03555319e-02\n",
       "    -8.74889344e-02 -8.17261487e-02  3.55115056e-01  2.22251952e-01\n",
       "     1.29669625e-02 -4.89012420e-01 -2.83599794e-01  2.58010812e-02\n",
       "     2.40341917e-01 -2.87185311e-01 -3.05870414e-01 -5.39901815e-02\n",
       "     5.07510662e-01 -4.95903157e-02  4.06762600e-01  1.06154598e-01\n",
       "     3.74688148e-01  7.24197552e-02 -3.76413092e-02 -1.33942574e-01]]\n",
       "\n",
       "  [[-3.07917416e-01  4.71641570e-02  1.26568168e-01 -2.17164889e-01\n",
       "    -2.20080793e-01 -8.87071043e-02  3.72637749e-01  2.41213307e-01\n",
       "    -1.51747510e-01 -1.93165783e-02  3.21622968e-01 -1.84020802e-01\n",
       "    -2.27862224e-01 -1.29011897e-02  4.32277322e-02 -2.55870987e-02\n",
       "     7.37478063e-02  4.71863449e-01 -1.63720101e-02 -2.61822879e-01\n",
       "    -6.63879737e-02  1.24758787e-01 -6.49432242e-02 -2.35224128e-01\n",
       "    -1.00697771e-01 -3.26039970e-01 -1.68932769e-02  2.21225575e-01\n",
       "    -3.36560994e-01  1.99303225e-01  3.03862810e-01 -9.35498625e-02\n",
       "    -5.92273287e-02 -7.35298619e-02 -2.73463190e-01  3.78648847e-01\n",
       "    -1.83704317e-01  3.46119016e-01  1.26655310e-01  1.21548036e-02\n",
       "    -3.23242813e-01  5.40125333e-02 -2.88044721e-01 -3.78035367e-01\n",
       "     9.34713781e-02 -6.67741895e-02  3.55978459e-01 -3.45895626e-03\n",
       "     5.32673709e-02  3.14025044e-01  1.20706055e-02 -3.62362474e-01\n",
       "     3.31909597e-01  2.38752678e-01  1.15627917e-02  2.83917505e-02\n",
       "    -2.21075136e-02 -5.60549349e-02  1.63553476e-01  3.29342544e-01\n",
       "     1.04664847e-01 -3.31877768e-02 -2.72728056e-02  6.43439069e-02]]]\n",
       "\n",
       "\n",
       " [[[-1.56987697e-01 -9.30347666e-02 -2.71713406e-01  4.63318884e-01\n",
       "     1.04416311e-01 -5.06262481e-01  1.41124055e-01 -3.62753838e-01\n",
       "     1.38399226e-03 -3.53562497e-02  1.23786226e-01  4.89688128e-01\n",
       "     5.22031963e-01 -3.22122797e-02  7.09858760e-02 -8.82325843e-02\n",
       "     4.46020514e-02 -4.77342233e-02 -1.08392239e-02  3.71414542e-01\n",
       "     2.00129896e-02  5.18657453e-02 -3.52334321e-01  5.51593006e-01\n",
       "     2.70946175e-02  4.42991734e-01 -4.27335471e-01  5.15968166e-02\n",
       "     3.68491918e-01  3.46405447e-01 -3.57087642e-01 -2.34693289e-04\n",
       "    -9.16879699e-02 -1.59765240e-02  1.03532135e-01  7.30341971e-02\n",
       "    -6.41552925e-01 -2.13653117e-01 -3.66331339e-01  1.71142057e-01\n",
       "    -5.87579459e-02 -1.59120128e-01  1.24919184e-01 -1.60623975e-02\n",
       "     6.95604384e-02 -3.20908651e-02 -2.27051780e-01 -8.08518380e-02\n",
       "    -1.40015483e-02  3.39891762e-01 -8.17431957e-02  2.50420332e-01\n",
       "    -3.45240533e-01 -8.97432491e-02  2.11239308e-01 -4.19281386e-02\n",
       "    -2.54087120e-01  4.50880677e-01  1.14602573e-01  1.37753800e-01\n",
       "     1.89279363e-01  4.30429935e-01  3.28761041e-02  2.24367023e-01]]\n",
       "\n",
       "  [[-6.03349833e-03 -1.98637515e-01  7.42446259e-02  1.56809822e-01\n",
       "     4.99034077e-01 -4.79678214e-02  2.70702034e-01  2.42071822e-01\n",
       "     4.71823476e-03  1.53506190e-01  3.37413102e-01  3.74843687e-01\n",
       "     1.05564415e-01  1.19512990e-01  8.41681585e-02 -7.30294362e-02\n",
       "     4.20501411e-01 -2.91804701e-01 -8.43672678e-02  6.21980548e-01\n",
       "     2.32320979e-01 -5.33795804e-02 -5.27590275e-01  1.46850973e-01\n",
       "     1.35662019e-01  4.08736467e-01  1.86796561e-01 -1.04849212e-01\n",
       "    -1.24879517e-01 -3.92836928e-01 -1.32885426e-01 -4.30527925e-02\n",
       "     5.02538774e-03 -3.08958918e-01  3.59985888e-01  1.07305877e-01\n",
       "     6.40529022e-02 -1.32495224e-01 -4.42210771e-02  5.16836762e-01\n",
       "     3.90371233e-01  5.86491525e-01  1.95481226e-01 -1.21216796e-01\n",
       "     5.01626611e-01 -9.59628075e-03  3.59336644e-01  1.38332307e-01\n",
       "    -3.65947895e-02 -1.21690966e-01  2.01105922e-01 -2.66781688e-01\n",
       "     1.01280712e-01 -4.57479984e-01  5.07708430e-01 -9.55782458e-02\n",
       "     2.97201157e-01  6.82999253e-01  1.37244225e-01 -8.17420185e-02\n",
       "     1.99796289e-01  5.20519555e-01 -7.93091059e-02  5.77590704e-01]]\n",
       "\n",
       "  [[-1.22457437e-01 -9.25176442e-02 -9.70782340e-03 -2.56715566e-01\n",
       "     2.89135993e-01  3.12896371e-01  1.28933966e-01  1.41832784e-01\n",
       "    -3.31013888e-01 -5.60674518e-02  4.86403555e-01 -5.08288026e-01\n",
       "    -1.75076872e-01 -2.63619363e-01 -5.00931814e-02 -1.52796293e-02\n",
       "    -1.36196911e-01  2.08736628e-01 -5.94603233e-02  8.73876065e-02\n",
       "     7.99941551e-03 -3.39562774e-01  1.23972952e-01  1.84309948e-02\n",
       "    -1.46510422e-01  1.05079323e-01  2.75192648e-01  1.15365744e-01\n",
       "    -7.42614418e-02 -1.73092932e-01  1.42098308e-01  4.89784777e-02\n",
       "    -6.45495802e-02 -6.81627989e-01  1.02779694e-01  2.59145498e-01\n",
       "     3.66752625e-01  3.33827823e-01 -1.66098908e-01  3.45915049e-01\n",
       "     2.51531631e-01  1.33631155e-01  1.29765764e-01 -1.52551413e-01\n",
       "     6.57945573e-01 -9.08278078e-02  2.92197645e-01 -8.44898969e-02\n",
       "    -3.50797772e-02  6.43291414e-01  6.31319821e-01 -3.68518889e-01\n",
       "     9.03279409e-02  1.13161035e-01  2.59986758e-01 -8.49458575e-02\n",
       "     1.27611116e-01  2.89477974e-01 -4.71399456e-01  2.46069416e-01\n",
       "    -6.74404204e-03  3.23802203e-01 -2.24476010e-02  5.52086532e-01]]]]>"
      ]
     },
     "execution_count": 37,
     "metadata": {},
     "output_type": "execute_result"
    }
   ],
   "source": [
    "conv.weights[0]"
   ]
  },
  {
   "cell_type": "code",
   "execution_count": 41,
   "id": "7e1aa684",
   "metadata": {},
   "outputs": [
    {
     "name": "stdout",
     "output_type": "stream",
     "text": [
      "0.018409953 0.25071833\n"
     ]
    }
   ],
   "source": [
    "import numpy as np\n",
    "conv_weights = conv.weights[0].numpy()\n",
    "print(conv_weights.mean(),conv_weights.std())"
   ]
  },
  {
   "cell_type": "code",
   "execution_count": 26,
   "id": "436260c1",
   "metadata": {},
   "outputs": [],
   "source": [
    "import matplotlib.pyplot as plt"
   ]
  },
  {
   "cell_type": "code",
   "execution_count": 42,
   "id": "ae7d6585",
   "metadata": {},
   "outputs": [
    {
     "data": {
      "image/png": "[encoded data removed]",
      "text/plain": [
       "<Figure size 1500x200 with 32 Axes>"
      ]
     },
     "metadata": {},
     "output_type": "display_data"
    }
   ],
   "source": [
    "# 이미지로 확인하기\n",
    "fig, axs = plt.subplots(2,16,figsize=(15,2))\n",
    "\n",
    "for i in range(2):\n",
    "    for j in range(16):\n",
    "        axs[i,j].imshow(conv_weights[:,:,0,i*16+j])\n",
    "        axs[i,j].axis('off')\n",
    "\n",
    "plt.show()        "
   ]
  },
  {
   "cell_type": "code",
   "execution_count": 43,
   "id": "541279d8",
   "metadata": {},
   "outputs": [
    {
     "data": {
      "text/plain": [
       "<KerasTensor shape=(None, 32, 32, 1), dtype=float32, sparse=False, ragged=False, name=input_layer>"
      ]
     },
     "execution_count": 43,
     "metadata": {},
     "output_type": "execute_result"
    }
   ],
   "source": [
    "# 특성맵 시각화\n",
    "model.layers[0].input"
   ]
  },
  {
   "cell_type": "code",
   "execution_count": 29,
   "id": "aa860a48",
   "metadata": {},
   "outputs": [
    {
     "name": "stdout",
     "output_type": "stream",
     "text": [
      "(14400, 32, 32, 1) (3600, 32, 32, 1)\n",
      "(14400,) (3600,)\n"
     ]
    }
   ],
   "source": [
    "print(train_scaled.shape, val_scaled.shape)\n",
    "print(train_target.shape, val_target.shape)"
   ]
  },
  {
   "cell_type": "code",
   "execution_count": 30,
   "id": "bb4941ca",
   "metadata": {},
   "outputs": [
    {
     "data": {
      "image/png": "[encoded data removed]",
      "text/plain": [
       "<Figure size 640x480 with 1 Axes>"
      ]
     },
     "metadata": {},
     "output_type": "display_data"
    }
   ],
   "source": [
    "plt.imshow(train_scaled[0])\n",
    "plt.show()"
   ]
  },
  {
   "cell_type": "code",
   "execution_count": 44,
   "id": "bdffc680",
   "metadata": {},
   "outputs": [],
   "source": [
    "# model 불러오기\n",
    "conv_acti = keras.models.Model(\n",
    "    model.layers[0].input,\n",
    "    model.layers[0].output\n",
    ")"
   ]
  },
  {
   "cell_type": "code",
   "execution_count": 32,
   "id": "ab07b35a",
   "metadata": {},
   "outputs": [
    {
     "name": "stdout",
     "output_type": "stream",
     "text": [
      "\u001b[1m1/1\u001b[0m \u001b[32m━━━━━━━━━━━━━━━━━━━━\u001b[0m\u001b[37m\u001b[0m \u001b[1m0s\u001b[0m 51ms/step\n",
      "(1, 32, 32, 64)\n"
     ]
    }
   ],
   "source": [
    "inputs = train_scaled[0:1].reshape(-1,32,32,1)/255.0\n",
    "feature_map = conv_acti.predict(inputs)\n",
    "print(feature_map.shape)"
   ]
  },
  {
   "cell_type": "code",
   "execution_count": 50,
   "id": "7abda0a5",
   "metadata": {},
   "outputs": [
    {
     "name": "stdout",
     "output_type": "stream",
     "text": [
      "[-0. -0. -0. ... -0. -0. -0.]\n"
     ]
    }
   ],
   "source": [
    "print(np.array(feature_map[0]))"
   ]
  },
  {
   "cell_type": "code",
   "execution_count": 33,
   "id": "a4aa626d",
   "metadata": {},
   "outputs": [
    {
     "data": {
      "image/png": "[encoded data removed]",
      "text/plain": [
       "<Figure size 1500x800 with 32 Axes>"
      ]
     },
     "metadata": {},
     "output_type": "display_data"
    }
   ],
   "source": [
    "fig, axs = plt.subplots(4,8,figsize=(15,8))\n",
    "\n",
    "for i in range(4):\n",
    "    for j in range(8):\n",
    "        axs[i,j].imshow(feature_map[0,:,:,i*8+j])\n",
    "        axs[i,j].axis('off')\n",
    "\n",
    "plt.show()"
   ]
  },
  {
   "cell_type": "code",
   "execution_count": 34,
   "id": "fbee3c54",
   "metadata": {},
   "outputs": [],
   "source": [
    "# Max Pooling\n",
    "conv2_acti = keras.models.Model(model.layers[0].input, model.layers[2].output)"
   ]
  },
  {
   "cell_type": "code",
   "execution_count": 35,
   "id": "0922eb80",
   "metadata": {},
   "outputs": [
    {
     "name": "stdout",
     "output_type": "stream",
     "text": [
      "\u001b[1m1/1\u001b[0m \u001b[32m━━━━━━━━━━━━━━━━━━━━\u001b[0m\u001b[37m\u001b[0m \u001b[1m0s\u001b[0m 57ms/step\n",
      "(1, 16384)\n"
     ]
    }
   ],
   "source": [
    "feature_map =  conv2_acti.predict(inputs)\n",
    "print(feature_map.shape)"
   ]
  },
  {
   "cell_type": "code",
   "execution_count": null,
   "id": "689d4986",
   "metadata": {},
   "outputs": [],
   "source": []
  }
 ],
 "metadata": {
  "kernelspec": {
   "display_name": "Python 3",
   "language": "python",
   "name": "python3"
  },
  "language_info": {
   "codemirror_mode": {
    "name": "ipython",
    "version": 3
   },
   "file_extension": ".py",
   "mimetype": "text/x-python",
   "name": "python",
   "nbconvert_exporter": "python",
   "pygments_lexer": "ipython3",
   "version": "3.11.8"
  }
 },
 "nbformat": 4,
 "nbformat_minor": 5
}
