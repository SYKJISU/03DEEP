{
 "cells": [
  {
   "cell_type": "code",
   "execution_count": null,
   "id": "7033d48f",
   "metadata": {},
   "outputs": [],
   "source": [
    "### 순차 데이터\n",
    "- 텍스트 데이터(ex: I am a boy):순서가 의미가 있다.\n",
    "- 시계열 데이터(ex: 주식, 날씨) \n",
    "\n",
    "### 순환 신경만(RNN: Recurrnet Neural Network)\n",
    "- 순환 신경망을 처리하는 단계 : 타임스템\n",
    "\n",
    "### 순환 신경망의 입력\n",
    "- 예을 들어 I am a boy. 의 문장이 입력 되면\n",
    "- 샘플이 하나이므로 배치 차원이 1이고 \n",
    "- 단어의 갯수는 4이고\n",
    "- 임의의 벡터로 3을 사용한다.\n",
    "- 3차원 (1, 4, 3) "
   ]
  }
 ],
 "metadata": {
  "kernelspec": {
   "display_name": "base",
   "language": "python",
   "name": "python3"
  },
  "language_info": {
   "name": "python",
   "version": "3.12.7"
  }
 },
 "nbformat": 4,
 "nbformat_minor": 5
}
