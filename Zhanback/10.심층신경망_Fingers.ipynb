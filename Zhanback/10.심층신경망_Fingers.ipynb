{
 "cells": [
  {
   "cell_type": "code",
   "execution_count": 1,
   "id": "b7f020fe",
   "metadata": {},
   "outputs": [],
   "source": [
    "import warnings\n",
    "warnings.filterwarnings('ignore')"
   ]
  },
  {
   "cell_type": "markdown",
   "id": "b421d4f8",
   "metadata": {},
   "source": [
    "#### Data 불러오기"
   ]
  },
  {
   "cell_type": "code",
   "execution_count": 2,
   "id": "325c279d",
   "metadata": {},
   "outputs": [],
   "source": [
    "import glob\n",
    "from PIL import Image\n",
    "import matplotlib.pyplot as plt"
   ]
  },
  {
   "cell_type": "code",
   "execution_count": 3,
   "id": "dd87b31f",
   "metadata": {},
   "outputs": [],
   "source": [
    "train_images = glob.glob(\"../Data/fingers/train/*.png\")\n",
    "test_images = glob.glob(\"../Data/fingers/test/*.png\")"
   ]
  },
  {
   "cell_type": "code",
   "execution_count": 4,
   "id": "59713d22",
   "metadata": {},
   "outputs": [
    {
     "data": {
      "text/plain": [
       "['../Data/fingers/train\\\\00048bba-979b-4f84-b833-5bbbb082b582_0L.png',\n",
       " '../Data/fingers/train\\\\000547a2-d456-4b16-b351-12ca9b40e390_0L.png',\n",
       " '../Data/fingers/train\\\\000cac8e-fcf0-4f8c-bd16-c257d1e6d7a8_2L.png',\n",
       " '../Data/fingers/train\\\\000d9961-8136-4dee-9820-86e178777958_0L.png',\n",
       " '../Data/fingers/train\\\\0010095b-2e3d-4517-a511-1f688c378f96_5L.png']"
      ]
     },
     "execution_count": 4,
     "metadata": {},
     "output_type": "execute_result"
    }
   ],
   "source": [
    "# file name 확인\n",
    "train_images[:5]"
   ]
  },
  {
   "cell_type": "code",
   "execution_count": 5,
   "id": "e9c5d5cd",
   "metadata": {},
   "outputs": [
    {
     "name": "stdout",
     "output_type": "stream",
     "text": [
      "18000\n",
      "3600\n"
     ]
    }
   ],
   "source": [
    "# 갯수\n",
    "print(len(train_images))\n",
    "print(len(test_images))"
   ]
  },
  {
   "cell_type": "code",
   "execution_count": 6,
   "id": "53cd357e",
   "metadata": {},
   "outputs": [],
   "source": [
    "# train data와 test data만들기 : 128X128 -> 32X32로 변경 \n",
    "X_train = []\n",
    "X_test = []\n",
    "y_train = []\n",
    "y_test = []\n",
    "\n",
    "# train data\n",
    "for image in sorted(train_images):\n",
    "    img = Image.open(image)\n",
    "    imgResize = img.resize((32, 32), Image.Resampling.LANCZOS)\n",
    "    X_train.append(imgResize)\n",
    "    y_train.append(image[-6:-4])\n",
    "\n",
    "# test data\n",
    "for image in sorted(test_images):\n",
    "    img = Image.open(image)\n",
    "    imgResize = img.resize((32, 32), Image.Resampling.LANCZOS)\n",
    "    X_test.append(imgResize)\n",
    "    y_test.append(image[-6:-4])"
   ]
  },
  {
   "cell_type": "code",
   "execution_count": 7,
   "id": "bdc30172",
   "metadata": {},
   "outputs": [
    {
     "data": {
      "text/plain": [
       "'0L'"
      ]
     },
     "execution_count": 7,
     "metadata": {},
     "output_type": "execute_result"
    }
   ],
   "source": [
    "a = ['../Data/fingers/train\\\\00048bba-979b-4f84-b833-5bbbb082b582_0L.png']\n",
    "a[0][-6:-4]"
   ]
  },
  {
   "cell_type": "code",
   "execution_count": 8,
   "id": "c1df75ff",
   "metadata": {},
   "outputs": [
    {
     "name": "stdout",
     "output_type": "stream",
     "text": [
      "['0L', '0L', '2L', '0L', '5L']\n",
      "['5L', '5L', '3R', '5L', '5L']\n"
     ]
    }
   ],
   "source": [
    "# label data 확인\n",
    "print(y_train[:5])\n",
    "print(y_test[:5])"
   ]
  },
  {
   "cell_type": "code",
   "execution_count": 9,
   "id": "0c8f568d",
   "metadata": {},
   "outputs": [
    {
     "data": {
      "image/png": "[encoded data removed]",
      "text/plain": [
       "<Figure size 640x480 with 1 Axes>"
      ]
     },
     "metadata": {},
     "output_type": "display_data"
    }
   ],
   "source": [
    "# train의 이미지 확인\n",
    "plt.imshow(X_train[0], cmap='gray')\n",
    "plt.show()"
   ]
  },
  {
   "cell_type": "code",
   "execution_count": 10,
   "id": "6e983c33",
   "metadata": {},
   "outputs": [
    {
     "data": {
      "image/png": "[encoded data removed]",
      "text/plain": [
       "<Figure size 640x480 with 1 Axes>"
      ]
     },
     "metadata": {},
     "output_type": "display_data"
    }
   ],
   "source": [
    "# test의 이미지 확인\n",
    "plt.imshow(X_test[0], cmap='gray')\n",
    "plt.show()"
   ]
  },
  {
   "cell_type": "markdown",
   "id": "73536172",
   "metadata": {},
   "source": [
    "----\n",
    "#### numpy배열로 변경"
   ]
  },
  {
   "cell_type": "code",
   "execution_count": 11,
   "id": "d5df3432",
   "metadata": {},
   "outputs": [],
   "source": [
    "import numpy as np"
   ]
  },
  {
   "cell_type": "code",
   "execution_count": 12,
   "id": "f344ef0c",
   "metadata": {},
   "outputs": [
    {
     "name": "stdout",
     "output_type": "stream",
     "text": [
      "(18000, 32, 32)\n"
     ]
    }
   ],
   "source": [
    "# train data 만들기\n",
    "tempData = np.zeros(18000 * 32 * 32, dtype=np.int32).reshape(18000, 32, 32)\n",
    "\n",
    "i = 0\n",
    "for image in X_train:\n",
    "    img = np.array(image, dtype=np.int32)\n",
    "    tempData[i,:,:] = img \n",
    "    i += 1\n",
    "\n",
    "X_train = tempData.copy()\n",
    "print(X_train.shape)"
   ]
  },
  {
   "cell_type": "code",
   "execution_count": 13,
   "id": "1ec40211",
   "metadata": {},
   "outputs": [
    {
     "name": "stdout",
     "output_type": "stream",
     "text": [
      "(3600, 32, 32)\n"
     ]
    }
   ],
   "source": [
    "# test Data 만들기\n",
    "\n",
    "tempData = np.zeros(3600 * 32 * 32, dtype=np.int32).reshape(3600, 32, 32)\n",
    "\n",
    "i = 0\n",
    "for image in X_test:\n",
    "    img = np.array(image, dtype=np.int32)\n",
    "    tempData[i,:,:] = img \n",
    "    i += 1\n",
    "\n",
    "X_test = tempData.copy()\n",
    "print(X_test.shape)"
   ]
  },
  {
   "cell_type": "markdown",
   "id": "d5fa0147",
   "metadata": {},
   "source": [
    "---\n",
    "#### Label을 숫자화"
   ]
  },
  {
   "cell_type": "code",
   "execution_count": 14,
   "id": "a5430092",
   "metadata": {},
   "outputs": [],
   "source": [
    "# Dictionary로 구성\n",
    "label_to_int = {\n",
    "    '0R' : 0,\n",
    "    '1R' : 1,\n",
    "    '2R' : 2,\n",
    "    '3R' : 3,\n",
    "    '4R' : 4,\n",
    "    '5R' : 5,\n",
    "    '0L' : 6,\n",
    "    '1L' : 7,\n",
    "    '2L' : 8,\n",
    "    '3L' : 9,\n",
    "    '4L' : 10,\n",
    "    '5L' : 11\n",
    "}"
   ]
  },
  {
   "cell_type": "code",
   "execution_count": 15,
   "id": "1a8ab463",
   "metadata": {},
   "outputs": [],
   "source": [
    "# 숫자로 변경하기\n",
    "temp = []\n",
    "for label in y_train:\n",
    "    temp.append(label_to_int[label])\n",
    "y_train = temp.copy()\n",
    "\n",
    "temp = []\n",
    "for label in y_test:\n",
    "    temp.append(label_to_int[label])\n",
    "y_test = temp.copy()\n"
   ]
  },
  {
   "cell_type": "code",
   "execution_count": 16,
   "id": "bdfe9f64",
   "metadata": {},
   "outputs": [],
   "source": [
    "y_train = np.array(y_train)\n",
    "y_test = np.array(y_test)"
   ]
  },
  {
   "cell_type": "code",
   "execution_count": 17,
   "id": "379953fa",
   "metadata": {},
   "outputs": [
    {
     "data": {
      "text/plain": [
       "array([11, 11,  3, 11, 11])"
      ]
     },
     "execution_count": 17,
     "metadata": {},
     "output_type": "execute_result"
    }
   ],
   "source": [
    "y_test[:5]"
   ]
  },
  {
   "cell_type": "markdown",
   "id": "2d0d807a",
   "metadata": {},
   "source": [
    "----\n",
    "#### train, valid 및 정규화하기"
   ]
  },
  {
   "cell_type": "code",
   "execution_count": 18,
   "id": "ad79dddc",
   "metadata": {},
   "outputs": [
    {
     "name": "stdout",
     "output_type": "stream",
     "text": [
      "(14400, 1024) (3600, 1024)\n",
      "(14400,) (3600,)\n"
     ]
    }
   ],
   "source": [
    "# 정규화\n",
    "train_scaled = X_train / 255.0\n",
    "train_scaled = train_scaled.reshape(-1, 32*32)\n",
    "\n",
    "# train, valid\n",
    "from sklearn.model_selection import train_test_split\n",
    "\n",
    "train_scaled, val_scaled, train_target, val_target = \\\n",
    "                            train_test_split(\n",
    "                                train_scaled,\n",
    "                                y_train,\n",
    "                                test_size=0.2,\n",
    "                                random_state=42\n",
    "                            )\n",
    "\n",
    "print(train_scaled.shape, val_scaled.shape)\n",
    "print(train_target.shape, val_target.shape)"
   ]
  },
  {
   "cell_type": "markdown",
   "id": "b5b42ab6",
   "metadata": {},
   "source": [
    "----\n",
    "#### Deep Learning Model\n",
    "- 입력층 : 32*32\n",
    "- 은닉층 : activation=relu\n",
    "- 출력층 : activation=softmax\n",
    "- 손실함수 : optimizer=adam, loss=sparse_categorical_crossentropy\n",
    "- epochs : 10 "
   ]
  },
  {
   "cell_type": "code",
   "execution_count": 19,
   "id": "13672ba1",
   "metadata": {},
   "outputs": [],
   "source": [
    "from tensorflow import keras\n",
    "from tensorflow.keras.layers import Input"
   ]
  },
  {
   "cell_type": "code",
   "execution_count": 20,
   "id": "016af519",
   "metadata": {},
   "outputs": [],
   "source": [
    "model = keras.Sequential()\n",
    "model.add(Input(shape=(32*32,)))\n",
    "model.add(keras.layers.Dense(512, activation='relu'))\n",
    "model.add(keras.layers.Dense(12, activation='softmax'))"
   ]
  },
  {
   "cell_type": "code",
   "execution_count": 23,
   "id": "75fff156",
   "metadata": {},
   "outputs": [],
   "source": [
    "# 손실함수\n",
    "model.compile(\n",
    "    optimizer='adam',\n",
    "    loss = 'sparse_categorical_crossentropy',\n",
    "    metrics=['accuracy']\n",
    ")"
   ]
  },
  {
   "cell_type": "code",
   "execution_count": 24,
   "id": "b4d3f71c",
   "metadata": {},
   "outputs": [
    {
     "name": "stdout",
     "output_type": "stream",
     "text": [
      "Epoch 1/10\n",
      "\u001b[1m450/450\u001b[0m \u001b[32m━━━━━━━━━━━━━━━━━━━━\u001b[0m\u001b[37m\u001b[0m \u001b[1m2s\u001b[0m 3ms/step - accuracy: 0.7535 - loss: 0.9878\n",
      "Epoch 2/10\n",
      "\u001b[1m450/450\u001b[0m \u001b[32m━━━━━━━━━━━━━━━━━━━━\u001b[0m\u001b[37m\u001b[0m \u001b[1m1s\u001b[0m 3ms/step - accuracy: 0.9780 - loss: 0.1047\n",
      "Epoch 3/10\n",
      "\u001b[1m450/450\u001b[0m \u001b[32m━━━━━━━━━━━━━━━━━━━━\u001b[0m\u001b[37m\u001b[0m \u001b[1m1s\u001b[0m 3ms/step - accuracy: 0.9887 - loss: 0.0489\n",
      "Epoch 4/10\n",
      "\u001b[1m450/450\u001b[0m \u001b[32m━━━━━━━━━━━━━━━━━━━━\u001b[0m\u001b[37m\u001b[0m \u001b[1m1s\u001b[0m 3ms/step - accuracy: 0.9944 - loss: 0.0295\n",
      "Epoch 5/10\n",
      "\u001b[1m450/450\u001b[0m \u001b[32m━━━━━━━━━━━━━━━━━━━━\u001b[0m\u001b[37m\u001b[0m \u001b[1m1s\u001b[0m 3ms/step - accuracy: 0.9965 - loss: 0.0192\n",
      "Epoch 6/10\n",
      "\u001b[1m450/450\u001b[0m \u001b[32m━━━━━━━━━━━━━━━━━━━━\u001b[0m\u001b[37m\u001b[0m \u001b[1m2s\u001b[0m 3ms/step - accuracy: 0.9933 - loss: 0.0215\n",
      "Epoch 7/10\n",
      "\u001b[1m450/450\u001b[0m \u001b[32m━━━━━━━━━━━━━━━━━━━━\u001b[0m\u001b[37m\u001b[0m \u001b[1m1s\u001b[0m 3ms/step - accuracy: 0.9991 - loss: 0.0067\n",
      "Epoch 8/10\n",
      "\u001b[1m450/450\u001b[0m \u001b[32m━━━━━━━━━━━━━━━━━━━━\u001b[0m\u001b[37m\u001b[0m \u001b[1m2s\u001b[0m 3ms/step - accuracy: 0.9956 - loss: 0.0148\n",
      "Epoch 9/10\n",
      "\u001b[1m450/450\u001b[0m \u001b[32m━━━━━━━━━━━━━━━━━━━━\u001b[0m\u001b[37m\u001b[0m \u001b[1m2s\u001b[0m 3ms/step - accuracy: 0.9991 - loss: 0.0050\n",
      "Epoch 10/10\n",
      "\u001b[1m450/450\u001b[0m \u001b[32m━━━━━━━━━━━━━━━━━━━━\u001b[0m\u001b[37m\u001b[0m \u001b[1m1s\u001b[0m 3ms/step - accuracy: 0.9994 - loss: 0.0033\n"
     ]
    },
    {
     "data": {
      "text/plain": [
       "<keras.src.callbacks.history.History at 0x272c13bf770>"
      ]
     },
     "execution_count": 24,
     "metadata": {},
     "output_type": "execute_result"
    }
   ],
   "source": [
    "model.fit(\n",
    "    train_scaled,\n",
    "    train_target,\n",
    "    epochs=10\n",
    ")"
   ]
  },
  {
   "cell_type": "code",
   "execution_count": 25,
   "id": "362b9774",
   "metadata": {},
   "outputs": [
    {
     "name": "stdout",
     "output_type": "stream",
     "text": [
      "\u001b[1m450/450\u001b[0m \u001b[32m━━━━━━━━━━━━━━━━━━━━\u001b[0m\u001b[37m\u001b[0m \u001b[1m1s\u001b[0m 1ms/step - accuracy: 0.9998 - loss: 0.0046\n"
     ]
    },
    {
     "data": {
      "text/plain": [
       "[0.004287195857614279, 0.9997222423553467]"
      ]
     },
     "execution_count": 25,
     "metadata": {},
     "output_type": "execute_result"
    }
   ],
   "source": [
    "# train score\n",
    "model.evaluate(train_scaled, train_target)"
   ]
  },
  {
   "cell_type": "code",
   "execution_count": 26,
   "id": "78eec3d1",
   "metadata": {},
   "outputs": [
    {
     "name": "stdout",
     "output_type": "stream",
     "text": [
      "\u001b[1m113/113\u001b[0m \u001b[32m━━━━━━━━━━━━━━━━━━━━\u001b[0m\u001b[37m\u001b[0m \u001b[1m0s\u001b[0m 1ms/step - accuracy: 1.0000 - loss: 0.0048\n"
     ]
    },
    {
     "data": {
      "text/plain": [
       "[0.004809858743101358, 0.9997222423553467]"
      ]
     },
     "execution_count": 26,
     "metadata": {},
     "output_type": "execute_result"
    }
   ],
   "source": [
    "# valid score\n",
    "model.evaluate(val_scaled, val_target)"
   ]
  },
  {
   "cell_type": "code",
   "execution_count": 27,
   "id": "dd905feb",
   "metadata": {},
   "outputs": [
    {
     "name": "stdout",
     "output_type": "stream",
     "text": [
      "\u001b[1m113/113\u001b[0m \u001b[32m━━━━━━━━━━━━━━━━━━━━\u001b[0m\u001b[37m\u001b[0m \u001b[1m0s\u001b[0m 1ms/step - accuracy: 0.9986 - loss: 0.0058 \n"
     ]
    },
    {
     "data": {
      "text/plain": [
       "[0.006505426950752735, 0.9983333349227905]"
      ]
     },
     "execution_count": 27,
     "metadata": {},
     "output_type": "execute_result"
    }
   ],
   "source": [
    "# test data\n",
    "test_scaled = X_test / 255.0\n",
    "test_scaled = test_scaled.reshape(-1, 32*32)\n",
    "\n",
    "model.evaluate(test_scaled, y_test)"
   ]
  },
  {
   "cell_type": "code",
   "execution_count": null,
   "id": "2ba29eae",
   "metadata": {},
   "outputs": [],
   "source": []
  },
  {
   "cell_type": "markdown",
   "id": "7717eda1",
   "metadata": {},
   "source": [
    "- train score\n",
    "- valid score\n",
    "- test score"
   ]
  }
 ],
 "metadata": {
  "kernelspec": {
   "display_name": "base",
   "language": "python",
   "name": "python3"
  },
  "language_info": {
   "codemirror_mode": {
    "name": "ipython",
    "version": 3
   },
   "file_extension": ".py",
   "mimetype": "text/x-python",
   "name": "python",
   "nbconvert_exporter": "python",
   "pygments_lexer": "ipython3",
   "version": "3.12.7"
  }
 },
 "nbformat": 4,
 "nbformat_minor": 5
}
