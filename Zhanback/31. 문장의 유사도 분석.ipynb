{
 "cells": [
  {
   "cell_type": "markdown",
   "id": "014342ab",
   "metadata": {},
   "source": [
    "#### 문장의 유사도 분석\n",
    ": 두개의 문장이 비슷한 것인지 또는 관련이 있는 것인지 분석\n",
    "- 레벤슈타인 거리\n",
    "- N-gram\n",
    "- 코사인 유사도\n",
    "- 유클리안 유사도\n",
    "- 맨하튼 유사도"
   ]
  },
  {
   "cell_type": "markdown",
   "id": "d066b55b",
   "metadata": {},
   "source": [
    "#### 레벤슈타인 거리(Lvenshtein Distance)\n",
    "- 두개의 문자열이 어느 정도 다른지를 나타내는 것으로 편집거리(Edit Distance)라고도 한다.\n",
    "- 위학 분야에서는 DNA배열의 유사성을 판단할때도 사용."
   ]
  },
  {
   "cell_type": "code",
   "execution_count": 2,
   "id": "28074e54",
   "metadata": {},
   "outputs": [],
   "source": [
    "from lvenshtein import Lvenshtein\n",
    "lv = Lvenshtein()"
   ]
  },
  {
   "cell_type": "code",
   "execution_count": 3,
   "id": "f7b993b6",
   "metadata": {},
   "outputs": [
    {
     "name": "stdout",
     "output_type": "stream",
     "text": [
      "2\n"
     ]
    }
   ],
   "source": [
    "# 가나다라와 가마바라의 거리\n",
    "print(lv.calc_distance(\"가나다라\", '가마바라'))"
   ]
  },
  {
   "cell_type": "code",
   "execution_count": 5,
   "id": "61e54d37",
   "metadata": {},
   "outputs": [
    {
     "name": "stdout",
     "output_type": "stream",
     "text": [
      "0 신촌역\n",
      "1 신천역\n",
      "2 신천군\n",
      "2 마곡역\n",
      "2 신발\n"
     ]
    }
   ],
   "source": [
    "# 신촌역과 가장 근접한 순서로 정렬\n",
    "\n",
    "samples = ['신촌역', '신천군', '신천역', '마곡역', '신발']\n",
    "base = samples[0]\n",
    "r = sorted(samples, key = lambda n: lv.calc_distance(base, n))\n",
    "\n",
    "for n in r:\n",
    "    print(lv.calc_distance(base, n), n)"
   ]
  },
  {
   "cell_type": "markdown",
   "id": "11a4c898",
   "metadata": {},
   "source": [
    "---\n",
    "#### 코사인(cosine) 유사도"
   ]
  },
  {
   "cell_type": "code",
   "execution_count": 6,
   "id": "4ff896cf",
   "metadata": {},
   "outputs": [],
   "source": [
    "a = \"딥러닝은 매우 재미있는 기술이라 공부하고 있습니다.\"\n",
    "b = \"공부하면 재미있는 기술이라 딥러닝을 배우고 있습니다.\""
   ]
  },
  {
   "cell_type": "code",
   "execution_count": 9,
   "id": "7de567ed",
   "metadata": {},
   "outputs": [],
   "source": [
    "from sklearn.feature_extraction.text import TfidfVectorizer"
   ]
  },
  {
   "cell_type": "code",
   "execution_count": 10,
   "id": "31a725f9",
   "metadata": {},
   "outputs": [],
   "source": [
    "sentences = (a, b)\n",
    "tfid_Vectorizer = TfidfVectorizer()"
   ]
  },
  {
   "cell_type": "code",
   "execution_count": 11,
   "id": "b8b3d6b7",
   "metadata": {},
   "outputs": [
    {
     "data": {
      "text/plain": [
       "('딥러닝은 매우 재미있는 기술이라 공부하고 있습니다.', '공부하면 재미있는 기술이라 딥러닝을 배우고 있습니다.')"
      ]
     },
     "execution_count": 11,
     "metadata": {},
     "output_type": "execute_result"
    }
   ],
   "source": [
    "sentences"
   ]
  },
  {
   "cell_type": "code",
   "execution_count": 13,
   "id": "f43aa322",
   "metadata": {},
   "outputs": [],
   "source": [
    "# 문장 벡터화 하기 : 사전 만들기\n",
    "tfid_matrix = tfid_Vectorizer.fit_transform(sentences)"
   ]
  },
  {
   "cell_type": "code",
   "execution_count": 15,
   "id": "f107c129",
   "metadata": {},
   "outputs": [
    {
     "name": "stdout",
     "output_type": "stream",
     "text": [
      "코사인 유사도 측정: [[0.33609693]]\n"
     ]
    }
   ],
   "source": [
    "from sklearn.metrics.pairwise import cosine_similarity\n",
    "\n",
    "# 첫번째 문장과 두번째 문장 비교\n",
    "cos_similar = cosine_similarity(tfid_matrix[0:1], tfid_matrix[1:2])\n",
    "print(\"코사인 유사도 측정:\", cos_similar)"
   ]
  },
  {
   "cell_type": "markdown",
   "id": "a0f7913c",
   "metadata": {},
   "source": [
    "#### 유사도를 이용한 추천 시스템 구현\n",
    ": 코사인 유사도만으로 영화의 줄거리에 기반하여 영화를 추천하는 시스템"
   ]
  },
  {
   "cell_type": "code",
   "execution_count": 16,
   "id": "61665895",
   "metadata": {},
   "outputs": [],
   "source": [
    "import pandas as pd"
   ]
  },
  {
   "cell_type": "code",
   "execution_count": 18,
   "id": "2f5c6b2c",
   "metadata": {},
   "outputs": [
    {
     "data": {
      "text/html": [
       "<div>\n",
       "<style scoped>\n",
       "    .dataframe tbody tr th:only-of-type {\n",
       "        vertical-align: middle;\n",
       "    }\n",
       "\n",
       "    .dataframe tbody tr th {\n",
       "        vertical-align: top;\n",
       "    }\n",
       "\n",
       "    .dataframe thead th {\n",
       "        text-align: right;\n",
       "    }\n",
       "</style>\n",
       "<table border=\"1\" class=\"dataframe\">\n",
       "  <thead>\n",
       "    <tr style=\"text-align: right;\">\n",
       "      <th></th>\n",
       "      <th>adult</th>\n",
       "      <th>belongs_to_collection</th>\n",
       "      <th>budget</th>\n",
       "      <th>genres</th>\n",
       "      <th>homepage</th>\n",
       "      <th>id</th>\n",
       "      <th>imdb_id</th>\n",
       "      <th>original_language</th>\n",
       "      <th>original_title</th>\n",
       "      <th>overview</th>\n",
       "      <th>popularity</th>\n",
       "      <th>poster_path</th>\n",
       "      <th>production_companies</th>\n",
       "      <th>production_countries</th>\n",
       "      <th>release_date</th>\n",
       "      <th>revenue</th>\n",
       "      <th>runtime</th>\n",
       "      <th>spoken_languages</th>\n",
       "      <th>status</th>\n",
       "      <th>tagline</th>\n",
       "      <th>title</th>\n",
       "      <th>video</th>\n",
       "      <th>vote_average</th>\n",
       "      <th>vote_count</th>\n",
       "    </tr>\n",
       "  </thead>\n",
       "  <tbody>\n",
       "    <tr>\n",
       "      <th>0</th>\n",
       "      <td>False</td>\n",
       "      <td>{'id': 10194, 'name': 'Toy Story Collection', ...</td>\n",
       "      <td>30000000</td>\n",
       "      <td>[{'id': 16, 'name': 'Animation'}, {'id': 35, '...</td>\n",
       "      <td>http://toystory.disney.com/toy-story</td>\n",
       "      <td>862</td>\n",
       "      <td>tt0114709</td>\n",
       "      <td>en</td>\n",
       "      <td>Toy Story</td>\n",
       "      <td>Led by Woody, Andy's toys live happily in his ...</td>\n",
       "      <td>21.946943</td>\n",
       "      <td>/rhIRbceoE9lR4veEXuwCC2wARtG.jpg</td>\n",
       "      <td>[{'name': 'Pixar Animation Studios', 'id': 3}]</td>\n",
       "      <td>[{'iso_3166_1': 'US', 'name': 'United States o...</td>\n",
       "      <td>1995-10-30</td>\n",
       "      <td>373554033.0</td>\n",
       "      <td>81.0</td>\n",
       "      <td>[{'iso_639_1': 'en', 'name': 'English'}]</td>\n",
       "      <td>Released</td>\n",
       "      <td>NaN</td>\n",
       "      <td>Toy Story</td>\n",
       "      <td>False</td>\n",
       "      <td>7.7</td>\n",
       "      <td>5415.0</td>\n",
       "    </tr>\n",
       "    <tr>\n",
       "      <th>1</th>\n",
       "      <td>False</td>\n",
       "      <td>NaN</td>\n",
       "      <td>65000000</td>\n",
       "      <td>[{'id': 12, 'name': 'Adventure'}, {'id': 14, '...</td>\n",
       "      <td>NaN</td>\n",
       "      <td>8844</td>\n",
       "      <td>tt0113497</td>\n",
       "      <td>en</td>\n",
       "      <td>Jumanji</td>\n",
       "      <td>When siblings Judy and Peter discover an encha...</td>\n",
       "      <td>17.015539</td>\n",
       "      <td>/vzmL6fP7aPKNKPRTFnZmiUfciyV.jpg</td>\n",
       "      <td>[{'name': 'TriStar Pictures', 'id': 559}, {'na...</td>\n",
       "      <td>[{'iso_3166_1': 'US', 'name': 'United States o...</td>\n",
       "      <td>1995-12-15</td>\n",
       "      <td>262797249.0</td>\n",
       "      <td>104.0</td>\n",
       "      <td>[{'iso_639_1': 'en', 'name': 'English'}, {'iso...</td>\n",
       "      <td>Released</td>\n",
       "      <td>Roll the dice and unleash the excitement!</td>\n",
       "      <td>Jumanji</td>\n",
       "      <td>False</td>\n",
       "      <td>6.9</td>\n",
       "      <td>2413.0</td>\n",
       "    </tr>\n",
       "  </tbody>\n",
       "</table>\n",
       "</div>"
      ],
      "text/plain": [
       "   adult  ... vote_count\n",
       "0  False  ...     5415.0\n",
       "1  False  ...     2413.0\n",
       "\n",
       "[2 rows x 24 columns]"
      ]
     },
     "execution_count": 18,
     "metadata": {},
     "output_type": "execute_result"
    }
   ],
   "source": [
    "data = pd.read_csv(\"../Data/movies_metadata.csv\", low_memory=False)\n",
    "data.head(2)"
   ]
  },
  {
   "cell_type": "code",
   "execution_count": 19,
   "id": "e16e12c1",
   "metadata": {},
   "outputs": [
    {
     "data": {
      "text/plain": [
       "Index(['adult', 'belongs_to_collection', 'budget', 'genres', 'homepage', 'id',\n",
       "       'imdb_id', 'original_language', 'original_title', 'overview',\n",
       "       'popularity', 'poster_path', 'production_companies',\n",
       "       'production_countries', 'release_date', 'revenue', 'runtime',\n",
       "       'spoken_languages', 'status', 'tagline', 'title', 'video',\n",
       "       'vote_average', 'vote_count'],\n",
       "      dtype='object')"
      ]
     },
     "execution_count": 19,
     "metadata": {},
     "output_type": "execute_result"
    }
   ],
   "source": [
    "data.columns"
   ]
  },
  {
   "cell_type": "code",
   "execution_count": 20,
   "id": "b8787545",
   "metadata": {},
   "outputs": [
    {
     "data": {
      "text/html": [
       "<div>\n",
       "<style scoped>\n",
       "    .dataframe tbody tr th:only-of-type {\n",
       "        vertical-align: middle;\n",
       "    }\n",
       "\n",
       "    .dataframe tbody tr th {\n",
       "        vertical-align: top;\n",
       "    }\n",
       "\n",
       "    .dataframe thead th {\n",
       "        text-align: right;\n",
       "    }\n",
       "</style>\n",
       "<table border=\"1\" class=\"dataframe\">\n",
       "  <thead>\n",
       "    <tr style=\"text-align: right;\">\n",
       "      <th></th>\n",
       "      <th>title</th>\n",
       "      <th>overview</th>\n",
       "    </tr>\n",
       "  </thead>\n",
       "  <tbody>\n",
       "    <tr>\n",
       "      <th>0</th>\n",
       "      <td>Toy Story</td>\n",
       "      <td>Led by Woody, Andy's toys live happily in his ...</td>\n",
       "    </tr>\n",
       "    <tr>\n",
       "      <th>1</th>\n",
       "      <td>Jumanji</td>\n",
       "      <td>When siblings Judy and Peter discover an encha...</td>\n",
       "    </tr>\n",
       "    <tr>\n",
       "      <th>2</th>\n",
       "      <td>Grumpier Old Men</td>\n",
       "      <td>A family wedding reignites the ancient feud be...</td>\n",
       "    </tr>\n",
       "    <tr>\n",
       "      <th>3</th>\n",
       "      <td>Waiting to Exhale</td>\n",
       "      <td>Cheated on, mistreated and stepped on, the wom...</td>\n",
       "    </tr>\n",
       "    <tr>\n",
       "      <th>4</th>\n",
       "      <td>Father of the Bride Part II</td>\n",
       "      <td>Just when George Banks has recovered from his ...</td>\n",
       "    </tr>\n",
       "  </tbody>\n",
       "</table>\n",
       "</div>"
      ],
      "text/plain": [
       "                         title                                           overview\n",
       "0                    Toy Story  Led by Woody, Andy's toys live happily in his ...\n",
       "1                      Jumanji  When siblings Judy and Peter discover an encha...\n",
       "2             Grumpier Old Men  A family wedding reignites the ancient feud be...\n",
       "3            Waiting to Exhale  Cheated on, mistreated and stepped on, the wom...\n",
       "4  Father of the Bride Part II  Just when George Banks has recovered from his ..."
      ]
     },
     "execution_count": 20,
     "metadata": {},
     "output_type": "execute_result"
    }
   ],
   "source": [
    "data[['title','overview']].head()"
   ]
  },
  {
   "cell_type": "code",
   "execution_count": 21,
   "id": "58f02425",
   "metadata": {},
   "outputs": [],
   "source": [
    "# 상위 2만개\n",
    "data = data.head(20000)"
   ]
  },
  {
   "cell_type": "code",
   "execution_count": 23,
   "id": "0af1ebac",
   "metadata": {},
   "outputs": [
    {
     "data": {
      "text/plain": [
       "np.int64(135)"
      ]
     },
     "execution_count": 23,
     "metadata": {},
     "output_type": "execute_result"
    }
   ],
   "source": [
    "data['overview'].isnull().sum()"
   ]
  },
  {
   "cell_type": "code",
   "execution_count": 24,
   "id": "ef7f05b0",
   "metadata": {},
   "outputs": [],
   "source": [
    "# 결측치를 빈값으로 대체\n",
    "data['overview'] = data['overview'].fillna('')"
   ]
  },
  {
   "cell_type": "code",
   "execution_count": 25,
   "id": "1ae708d2",
   "metadata": {},
   "outputs": [
    {
     "data": {
      "text/plain": [
       "(20000, 47487)"
      ]
     },
     "execution_count": 25,
     "metadata": {},
     "output_type": "execute_result"
    }
   ],
   "source": [
    "# 행렬 크기 구하기\n",
    "tfidf = TfidfVectorizer(stop_words='english')\n",
    "tfid_matrix = tfidf.fit_transform(data['overview'])\n",
    "tfid_matrix.shape"
   ]
  },
  {
   "cell_type": "code",
   "execution_count": 28,
   "id": "9d3b62f1",
   "metadata": {},
   "outputs": [
    {
     "data": {
      "text/plain": [
       "(20000, 20000)"
      ]
     },
     "execution_count": 28,
     "metadata": {},
     "output_type": "execute_result"
    }
   ],
   "source": [
    "cosine_sim = cosine_similarity(tfid_matrix, tfid_matrix)\n",
    "cosine_sim.shape"
   ]
  },
  {
   "cell_type": "code",
   "execution_count": 31,
   "id": "3f639cb7",
   "metadata": {},
   "outputs": [
    {
     "data": {
      "text/plain": [
       "array([[1.        , 0.01575748, 0.        , ..., 0.        , 0.        ,\n",
       "        0.        ],\n",
       "       [0.01575748, 1.        , 0.04907345, ..., 0.        , 0.        ,\n",
       "        0.        ],\n",
       "       [0.        , 0.04907345, 1.        , ..., 0.        , 0.        ,\n",
       "        0.        ],\n",
       "       ...,\n",
       "       [0.        , 0.        , 0.        , ..., 1.        , 0.        ,\n",
       "        0.08375766],\n",
       "       [0.        , 0.        , 0.        , ..., 0.        , 1.        ,\n",
       "        0.        ],\n",
       "       [0.        , 0.        , 0.        , ..., 0.08375766, 0.        ,\n",
       "        1.        ]])"
      ]
     },
     "execution_count": 31,
     "metadata": {},
     "output_type": "execute_result"
    }
   ],
   "source": [
    "cosine_sim"
   ]
  },
  {
   "cell_type": "code",
   "execution_count": 29,
   "id": "bb40f739",
   "metadata": {},
   "outputs": [],
   "source": [
    "# 기존데이터프레임으로 부터 영화 타일틀을 key, 영화의 인덱스를 value로 하는 딕셔너리\n",
    "title_to_index = dict(zip(data['title'], data.index))"
   ]
  },
  {
   "cell_type": "code",
   "execution_count": 30,
   "id": "d2cbc691",
   "metadata": {},
   "outputs": [
    {
     "data": {
      "text/plain": [
       "4"
      ]
     },
     "execution_count": 30,
     "metadata": {},
     "output_type": "execute_result"
    }
   ],
   "source": [
    "# 영화 제목을 Father of the Bride Part II의 인덱스\n",
    "idx = title_to_index['Father of the Bride Part II']\n",
    "idx"
   ]
  },
  {
   "cell_type": "code",
   "execution_count": 33,
   "id": "b1b236ee",
   "metadata": {},
   "outputs": [],
   "source": [
    "# 선택한 영화의 제목을 입력하면 코사인 유사도를 통해 가장 overview가 \n",
    "# 유사한 10개의 영화를 찾아내는 함수\n",
    "\n",
    "def get_recommendations(title, consine_sim=cosine_sim):\n",
    "    # 선택한 영화의 타이틀로 부터 해당 영화의 인덱스를 받아온다.\n",
    "    idx = title_to_index[title]\n",
    "    # 해당 영화와 모든 영화와의 유사도를 가져온다.\n",
    "    sim_scores = list(enumerate(cosine_sim[idx]))\n",
    "    # 유사도에 따라 영화들을 정렬한다.\n",
    "    sim_scores = sorted(sim_scores, key=lambda x: x[1], reverse=True)\n",
    "    # 가장 유사한 10개의 영화를 받아온다.\n",
    "    sim_scores = sim_scores[1:11]\n",
    "    # 가장 유사한 10개의 영화의 인덱스를 얻는다\n",
    "    movies_indices = [idx[0] for idx in sim_scores]\n",
    "    # 가장 유사한 10개의 영화의 제목을 리턴한다.\n",
    "    return data['title'].iloc[movies_indices]"
   ]
  },
  {
   "cell_type": "code",
   "execution_count": 37,
   "id": "2cf3e2ca",
   "metadata": {},
   "outputs": [
    {
     "data": {
      "text/plain": [
       "12481                            The Dark Knight\n",
       "150                               Batman Forever\n",
       "1328                              Batman Returns\n",
       "15511                 Batman: Under the Red Hood\n",
       "585                                       Batman\n",
       "9230          Batman Beyond: Return of the Joker\n",
       "18035                           Batman: Year One\n",
       "19792    Batman: The Dark Knight Returns, Part 1\n",
       "3095                Batman: Mask of the Phantasm\n",
       "10122                              Batman Begins\n",
       "Name: title, dtype: object"
      ]
     },
     "execution_count": 37,
     "metadata": {},
     "output_type": "execute_result"
    }
   ],
   "source": [
    "# 영화 : The Dark Knight Rises \n",
    "get_recommendations(\"The Dark Knight Rises\")"
   ]
  },
  {
   "cell_type": "code",
   "execution_count": null,
   "id": "4ed896d7",
   "metadata": {},
   "outputs": [],
   "source": []
  }
 ],
 "metadata": {
  "kernelspec": {
   "display_name": "base10",
   "language": "python",
   "name": "python3"
  },
  "language_info": {
   "codemirror_mode": {
    "name": "ipython",
    "version": 3
   },
   "file_extension": ".py",
   "mimetype": "text/x-python",
   "name": "python",
   "nbconvert_exporter": "python",
   "pygments_lexer": "ipython3",
   "version": "3.10.18"
  }
 },
 "nbformat": 4,
 "nbformat_minor": 5
}
